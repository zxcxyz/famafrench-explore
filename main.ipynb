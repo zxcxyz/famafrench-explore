{
 "cells": [
  {
   "attachments": {},
   "cell_type": "markdown",
   "metadata": {},
   "source": [
    "# Plot Fama-French Portfolios returns"
   ]
  },
  {
   "cell_type": "code",
   "execution_count": null,
   "metadata": {},
   "outputs": [],
   "source": [
    "import csv\n",
    "import pandas as pd\n",
    "import matplotlib.pyplot as plt\n",
    "import matplotlib.dates as mdates\n",
    "from datetime import datetime\n",
    "\n",
    "\n",
    "dateparse = lambda x: datetime.strptime(x,'%Y%m') \n",
    "\n",
    "df = pd.read_csv('data/F-F_Research_Data_Factors.CSV', names=['time', 'Mkt-RF', 'SMB', 'HML', 'RF'], skiprows=882, index_col=0, parse_dates=True, date_parser=dateparse)\n",
    "\n",
    "pl = df.plot(figsize=(15,15), kind='line', x_compat=True, color = ['royalblue', 'maroon', 'darkorange', 'magenta'])\n",
    "pl.xaxis.set_major_locator(mdates.YearLocator())\n",
    "\n",
    "\n",
    "# remove empty years with no data\n",
    "plt.margins(x=0)\n",
    "# add x baseline\n",
    "plt.axhline(y=0, color='black', linewidth=0.5)\n",
    "# plt.xlim(df.index[0], df.index[-1])\n",
    "plt.show()\n",
    "\n"
   ]
  }
 ],
 "metadata": {
  "kernelspec": {
   "display_name": "famafrench-explore",
   "language": "python",
   "name": "python3"
  },
  "language_info": {
   "codemirror_mode": {
    "name": "ipython",
    "version": 3
   },
   "file_extension": ".py",
   "mimetype": "text/x-python",
   "name": "python",
   "nbconvert_exporter": "python",
   "pygments_lexer": "ipython3",
   "version": "3.11.1"
  },
  "orig_nbformat": 4,
  "vscode": {
   "interpreter": {
    "hash": "d7ae87786acb2031fbff3951b4068c96fff93d2c6ce577801951f019ec248d17"
   }
  }
 },
 "nbformat": 4,
 "nbformat_minor": 2
}
